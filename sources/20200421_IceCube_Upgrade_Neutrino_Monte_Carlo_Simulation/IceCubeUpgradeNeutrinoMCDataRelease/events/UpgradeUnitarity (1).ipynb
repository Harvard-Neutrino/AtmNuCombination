{
 "cells": [
  {
   "cell_type": "code",
   "execution_count": 1,
   "metadata": {},
   "outputs": [
    {
     "ename": "ModuleNotFoundError",
     "evalue": "No module named 'nuSQuIDS'",
     "output_type": "error",
     "traceback": [
      "\u001b[0;31m---------------------------------------------------------------------------\u001b[0m",
      "\u001b[0;31mModuleNotFoundError\u001b[0m                       Traceback (most recent call last)",
      "\u001b[0;32m<ipython-input-1-af310c4f3404>\u001b[0m in \u001b[0;36m<module>\u001b[0;34m\u001b[0m\n\u001b[1;32m      3\u001b[0m \u001b[0;32mimport\u001b[0m \u001b[0mmatplotlib\u001b[0m\u001b[0;34m\u001b[0m\u001b[0;34m\u001b[0m\u001b[0m\n\u001b[1;32m      4\u001b[0m \u001b[0;32mimport\u001b[0m \u001b[0mmatplotlib\u001b[0m\u001b[0;34m.\u001b[0m\u001b[0mpyplot\u001b[0m \u001b[0;32mas\u001b[0m \u001b[0mplt\u001b[0m\u001b[0;34m\u001b[0m\u001b[0;34m\u001b[0m\u001b[0m\n\u001b[0;32m----> 5\u001b[0;31m \u001b[0;32mimport\u001b[0m \u001b[0mnuSQuIDS\u001b[0m \u001b[0;32mas\u001b[0m \u001b[0mnsq\u001b[0m\u001b[0;34m\u001b[0m\u001b[0;34m\u001b[0m\u001b[0m\n\u001b[0m\u001b[1;32m      6\u001b[0m \u001b[0;32mimport\u001b[0m \u001b[0mnuflux\u001b[0m\u001b[0;34m\u001b[0m\u001b[0;34m\u001b[0m\u001b[0m\n\u001b[1;32m      7\u001b[0m \u001b[0;34m\u001b[0m\u001b[0m\n",
      "\u001b[0;31mModuleNotFoundError\u001b[0m: No module named 'nuSQuIDS'"
     ]
    }
   ],
   "source": [
    "import numpy as np\n",
    "import pandas as pd\n",
    "import matplotlib\n",
    "import matplotlib.pyplot as plt\n",
    "import nuSQuIDS as nsq\n",
    "import nuflux\n",
    "\n",
    "matplotlib.rcParams.update({'font.size': 16})\n",
    "matplotlib.rcParams.update({'lines.linewidth': 3})\n",
    "matplotlib.rcParams.update({'patch.linewidth': 3})"
   ]
  },
  {
   "cell_type": "code",
   "execution_count": 3,
   "metadata": {},
   "outputs": [
    {
     "name": "stdout",
     "output_type": "stream",
     "text": [
      "/snap/jupyter/6/bin/python\r\n"
     ]
    }
   ],
   "source": [
    "!which python\n",
    "import sys\n",
    "!{sys.executable} -m "
   ]
  },
  {
   "cell_type": "code",
   "execution_count": 3,
   "metadata": {},
   "outputs": [
    {
     "ename": "NameError",
     "evalue": "name 'pd' is not defined",
     "output_type": "error",
     "traceback": [
      "\u001b[0;31m---------------------------------------------------------------------------\u001b[0m",
      "\u001b[0;31mNameError\u001b[0m                                 Traceback (most recent call last)",
      "\u001b[0;32m<ipython-input-3-fdffe61f2b4b>\u001b[0m in \u001b[0;36m<module>\u001b[0;34m\u001b[0m\n\u001b[1;32m      3\u001b[0m \u001b[0;34m\u001b[0m\u001b[0m\n\u001b[1;32m      4\u001b[0m \u001b[0;31m# Load the file using pandas\u001b[0m\u001b[0;34m\u001b[0m\u001b[0;34m\u001b[0m\u001b[0;34m\u001b[0m\u001b[0m\n\u001b[0;32m----> 5\u001b[0;31m \u001b[0minput_data\u001b[0m \u001b[0;34m=\u001b[0m \u001b[0mpd\u001b[0m\u001b[0;34m.\u001b[0m\u001b[0mread_csv\u001b[0m\u001b[0;34m(\u001b[0m\u001b[0minput_file\u001b[0m\u001b[0;34m)\u001b[0m\u001b[0;34m\u001b[0m\u001b[0;34m\u001b[0m\u001b[0m\n\u001b[0m",
      "\u001b[0;31mNameError\u001b[0m: name 'pd' is not defined"
     ]
    }
   ],
   "source": [
    "# Define path to file (you may need to change this to match your system)\n",
    "input_file = \"neutrino_mc.csv\"\n",
    "\n",
    "# Load the file using pandas\n",
    "input_data = pd.read_csv(input_file)"
   ]
  },
  {
   "cell_type": "code",
   "execution_count": 4,
   "metadata": {},
   "outputs": [
    {
     "ename": "NameError",
     "evalue": "name 'nsq' is not defined",
     "output_type": "error",
     "traceback": [
      "\u001b[0;31m---------------------------------------------------------------------------\u001b[0m",
      "\u001b[0;31mNameError\u001b[0m                                 Traceback (most recent call last)",
      "\u001b[0;32m<ipython-input-4-4c1756e5e989>\u001b[0m in \u001b[0;36m<module>\u001b[0;34m\u001b[0m\n\u001b[0;32m----> 1\u001b[0;31m \u001b[0munits\u001b[0m \u001b[0;34m=\u001b[0m \u001b[0mnsq\u001b[0m\u001b[0;34m.\u001b[0m\u001b[0mConst\u001b[0m\u001b[0;34m(\u001b[0m\u001b[0;34m)\u001b[0m\u001b[0;34m\u001b[0m\u001b[0;34m\u001b[0m\u001b[0m\n\u001b[0m",
      "\u001b[0;31mNameError\u001b[0m: name 'nsq' is not defined"
     ]
    }
   ],
   "source": [
    "units = nsq.Const()"
   ]
  },
  {
   "cell_type": "code",
   "execution_count": 5,
   "metadata": {},
   "outputs": [
    {
     "ename": "SyntaxError",
     "evalue": "invalid syntax (<ipython-input-5-75eb0787bb48>, line 1)",
     "output_type": "error",
     "traceback": [
      "\u001b[0;36m  File \u001b[0;32m\"<ipython-input-5-75eb0787bb48>\"\u001b[0;36m, line \u001b[0;32m1\u001b[0m\n\u001b[0;31m    def ()\u001b[0m\n\u001b[0m        ^\u001b[0m\n\u001b[0;31mSyntaxError\u001b[0m\u001b[0;31m:\u001b[0m invalid syntax\n"
     ]
    }
   ],
   "source": [
    "def ()\n",
    "\n",
    "interactions = False\n",
    "\n",
    "E_min = 1.0*units.GeV\n",
    "E_max = 1.0e3*units.PeV\n",
    "E_nodes = 100\n",
    "energy_nodes = nsq.logspace(E_min,E_max,E_nodes)\n",
    "\n",
    "cth_min = -1.0\n",
    "cth_max = 1.0\n",
    "cth_nodes = 40\n",
    "cth_nodes = nsq.linspace(cth_min,cth_max,cth_nodes)\n",
    "\n",
    "neutrino_flavors = 3\n",
    "\n",
    "nsq_atm = nsq.nuSQUIDSAtm(cth_nodes,energy_nodes,neutrino_flavors,nsq.NeutrinoType.both,interactions)"
   ]
  },
  {
   "cell_type": "code",
   "execution_count": 42,
   "metadata": {},
   "outputs": [],
   "source": [
    "AtmInitialFlux = np.zeros((len(cth_nodes),len(energy_nodes),2,neutrino_flavors))\n",
    "flux = nuflux.makeFlux('honda2006')\n",
    "for ic,cth in enumerate(nsq_atm.GetCosthRange()):\n",
    "    for ie,E in enumerate(nsq_atm.GetERange()):\n",
    "        nu_energy = E/units.GeV\n",
    "        nu_cos_zenith = cth\n",
    "        AtmInitialFlux[ic][ie][0][0] = flux.getFlux(nuflux.NuE,nu_energy,nu_cos_zenith) # nue\n",
    "        AtmInitialFlux[ic][ie][1][0] = flux.getFlux(nuflux.NuEBar,nu_energy,nu_cos_zenith) # nue bar\n",
    "        AtmInitialFlux[ic][ie][0][1] = flux.getFlux(nuflux.NuMu,nu_energy,nu_cos_zenith) # numu\n",
    "        AtmInitialFlux[ic][ie][1][1] = flux.getFlux(nuflux.NuMuBar,nu_energy,nu_cos_zenith) # numu bar\n",
    "        AtmInitialFlux[ic][ie][0][2] = flux.getFlux(nuflux.NuTau,nu_energy,nu_cos_zenith) # nutau\n",
    "        AtmInitialFlux[ic][ie][1][2] = flux.getFlux(nuflux.NuTauBar,nu_energy,nu_cos_zenith) # nutau bar"
   ]
  },
  {
   "cell_type": "code",
   "execution_count": 43,
   "metadata": {},
   "outputs": [],
   "source": [
    "nsq_atm.Set_initial_state(AtmInitialFlux,nsq.Basis.flavor)\n",
    "nsq_atm.Set_ProgressBar(True) # progress bar will be printed on terminal\n",
    "nsq_atm.EvolveState()"
   ]
  },
  {
   "cell_type": "code",
   "execution_count": 75,
   "metadata": {},
   "outputs": [],
   "source": [
    "lifetime = 5.0*365*24*60*60\n",
    "meter_to_cm_sq = 1e4\n",
    "rate_weight = np.zeros_like(input_data[\"weight\"])\n",
    "for i in range(len(rate_weight)):\n",
    "    if input_data[\"pdg\"][i] > 0 :\n",
    "        neutype = 0\n",
    "    else:\n",
    "        neutype = 1\n",
    "        \n",
    "    if np.abs(input_data[\"pdg\"][i]) == 12:\n",
    "        neuflavor = 0\n",
    "    elif np.abs(input_data[\"pdg\"][i]) == 14:\n",
    "        neuflavor = 1\n",
    "    elif np.abs(input_data[\"pdg\"][i]) == 16:\n",
    "        neuflavor = 2\n",
    "        \n",
    "    if input_data[\"true_energy\"][i]*units.GeV < E_min or input_data[\"true_energy\"][i]*units.GeV > E_max:\n",
    "        rate_weight[i] = 0\n",
    "        continue\n",
    "    rate_weight[i] = input_data[\"weight\"][i]*nsq_atm.EvalFlavor(neuflavor,\n",
    "                                                                np.cos(input_data[\"true_zenith\"][i]),\n",
    "                                                                input_data[\"true_energy\"][i]*units.GeV,neutype)*lifetime*meter_to_cm_sq"
   ]
  },
  {
   "cell_type": "code",
   "execution_count": 82,
   "metadata": {},
   "outputs": [],
   "source": [
    "null_hypothesis = np.histogram2d(input_data[\"reco_energy\"],\n",
    "                                 np.cos(input_data[\"reco_zenith\"]),\n",
    "                                 bins = [reco_energy_bins, reco_costh_bins])"
   ]
  },
  {
   "cell_type": "code",
   "execution_count": 83,
   "metadata": {},
   "outputs": [],
   "source": [
    "Ue4_range = np.logspace(-2, np.log10(0.5),20)\n",
    "Um4_range = np.logspace(-2, np.log10(0.5),20)\n",
    "Ut4_range = np.logspace(-2, np.log10(0.5),20)"
   ]
  },
  {
   "cell_type": "code",
   "execution_count": 76,
   "metadata": {},
   "outputs": [
    {
     "data": {
      "image/png": "[encoded data removed]",
      "text/plain": [
       "<Figure size 432x288 with 1 Axes>"
      ]
     },
     "metadata": {
      "needs_background": "light"
     },
     "output_type": "display_data"
    }
   ],
   "source": [
    "reco_energy_bins = np.linspace(5,100,20)\n",
    "reco_costh_bins = np.linspace(-1,1,20)\n",
    "\n",
    "_ = plt.hist(input_data[\"reco_energy\"], \n",
    "         weights = rate_weight,\n",
    "         bins = reco_energy_bins,\n",
    "         histtype=\"step\"\n",
    "        )"
   ]
  },
  {
   "cell_type": "code",
   "execution_count": 80,
   "metadata": {},
   "outputs": [
    {
     "data": {
      "image/png": "[encoded data removed]",
      "text/plain": [
       "<Figure size 432x288 with 1 Axes>"
      ]
     },
     "metadata": {
      "needs_background": "light"
     },
     "output_type": "display_data"
    }
   ],
   "source": [
    "_ = plt.hist(np.cos(input_data[\"reco_zenith\"]), \n",
    "         weights = rate_weight,\n",
    "         bins = reco_costh_bins,\n",
    "         histtype=\"step\"\n",
    "        )"
   ]
  },
  {
   "cell_type": "markdown",
   "metadata": {},
   "source": [
    "# Plotting Oscillated Flux "
   ]
  },
  {
   "cell_type": "code",
   "execution_count": 24,
   "metadata": {},
   "outputs": [],
   "source": [
    "erange = nsq_atm.GetERange()\n",
    "neutype = 1\n",
    "phi_e = [nsq_atm.EvalFlavor(0,-1.0,EE,neutype) for EE in erange]\n",
    "phi_mu = [nsq_atm.EvalFlavor(1,-1.0,EE,neutype) for EE in erange]\n",
    "phi_tau = [nsq_atm.EvalFlavor(2,-1.0,EE,neutype) for EE in erange]"
   ]
  },
  {
   "cell_type": "code",
   "execution_count": 72,
   "metadata": {},
   "outputs": [
    {
     "data": {
      "text/plain": [
       "(1e+21, 1e+26)"
      ]
     },
     "execution_count": 72,
     "metadata": {},
     "output_type": "execute_result"
    },
    {
     "data": {
      "image/png": "[encoded data removed]",
      "text/plain": [
       "<Figure size 432x432 with 1 Axes>"
      ]
     },
     "metadata": {
      "needs_background": "light"
     },
     "output_type": "display_data"
    }
   ],
   "source": [
    "plt.figure(figsize = (6,6))\n",
    "\n",
    "plt.plot(erange,phi_e*erange**3, lw = 2.5, color = \"blue\", label = r\"$\\nu_e$\")\n",
    "plt.plot(erange,phi_mu*erange**3, lw = 2.5, color = \"red\", label = r\"$\\nu_\\mu$\")\n",
    "plt.plot(erange,phi_tau*erange**3, lw = 2.5, color = \"green\", label = r\"$\\nu_\\tau$\")\n",
    "\n",
    "plt.loglog()\n",
    "\n",
    "plt.xlim(erange[0],erange[-1])\n",
    "plt.xlabel(r\"$E_\\nu [{\\rm GeV}]$\")\n",
    "plt.ylabel(r\"$E^3_\\nu \\phi^{atm}_\\nu $\")\n",
    "\n",
    "plt.grid()\n",
    "\n",
    "plt.legend(bbox_to_anchor=(1.05, 1), loc=2, fontsize = 14, fancybox = True)\n",
    "plt.ylim(1e21,1e26)"
   ]
  },
  {
   "cell_type": "code",
   "execution_count": null,
   "metadata": {},
   "outputs": [],
   "source": []
  }
 ],
 "metadata": {
  "kernelspec": {
   "display_name": "Python 3",
   "language": "python",
   "name": "python3"
  },
  "language_info": {
   "codemirror_mode": {
    "name": "ipython",
    "version": 3
   },
   "file_extension": ".py",
   "mimetype": "text/x-python",
   "name": "python",
   "nbconvert_exporter": "python",
   "pygments_lexer": "ipython3",
   "version": "3.7.3"
  }
 },
 "nbformat": 4,
 "nbformat_minor": 5
}
